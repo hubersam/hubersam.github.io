{
 "cells": [
  {
   "cell_type": "raw",
   "id": "dad0bab9-5e73-460b-8a94-86d721cbf8b4",
   "metadata": {},
   "source": [
    "---\n",
    "title: \"Classification\"\n",
    "description: \"The information in this post is classified.\"\n",
    "author: \"Samuel Huber\"\n",
    "date: \"2023-12-03\"\n",
    "---"
   ]
  },
  {
   "cell_type": "markdown",
   "id": "9d13e7be-8f9e-46c0-bc7a-bffa87fe39e4",
   "metadata": {},
   "source": [
    "In the last post, we discussed the basics of Linear Regression and showed an example of how it could be used to estimate a given value based on input parameters. In this section, we'll talk about a similar concept known as ***Classification***.\n",
    "\n",
    "A model that is used for classification uses input features to predict a *class*. The class is a selection from a discrete set of classes. For example, a classification model could be trained for identifying whether an online store review is *positive* or *negative*. Another example is classifying a person's facial expression as *happy*, *sad*, *bored*, *scared*, and so on. Classification can be used for many unique and useful purposes, and luckily, the metrics to determine the performance of a classification model are very simple.\n",
    "\n",
    "However, there is one large difference between what we have seen so far for regression and what we will see for classification. In the last post, we looked at Linear Regression and Nonlinear Regression, and as it turns out, these are the main forms that are used. There are a few others (Ridge Regression, Lasso Regression, etc.), but they are very nuanced and have subtle differences. Classification, on the other hand, has many different algorithms that all have their own positives and negatives. Therefore, this post will look less at the mathematical theory and more at the applications and usage of each of the popular classification model types.\n",
    "\n",
    "---"
   ]
  },
  {
   "cell_type": "markdown",
   "id": "3334e928-9392-4a57-bad5-013020504529",
   "metadata": {},
   "source": [
    "# Binary Classification"
   ]
  },
  {
   "cell_type": "markdown",
   "id": "39f92701-55b6-4ba7-999a-2f63dc31e0d9",
   "metadata": {},
   "source": [
    "## The Dataset"
   ]
  },
  {
   "cell_type": "markdown",
   "id": "071481b6-3a0c-4380-a02a-d5ee9e942972",
   "metadata": {},
   "source": [
    "The simplest type of classification is, unsurprisingly, ***Binary Classification***. However, as we will discover later, classification for multiple output classes is *very* similar to binary classification.\n",
    "\n",
    "Before we get too deep into the theory though, let's talk about our dataset. We will be using the \"Breast Cancer Wisconsin\" dataset, which contains measurements of breast cancer tumors and a classification based on if they're malignant or benign. The data was obtained using digitized imagery from a process known as *fine needle aspiratation*. More details about the data collection can be found in the following paper:\n",
    "\n",
    "> Street, W. Nick, William H. Wolberg, and Olvi L. Mangasarian.\n",
    "> \"Nuclear feature extraction for breast tumor diagnosis.\"\n",
    "> *Biomedical image processing and biomedical visualization.* Vol. 1905. SPIE, 1993.\n",
    "\n",
    "which can be accessed [here](https://minds.wisconsin.edu/bitstream/handle/1793/59692/TR1131.pdf?sequence=1).\n",
    "\n",
    "Interestingly, the paper itself also contains a classification model that performs very well. What is even more impressive is that this was accomplished in 1992!\n",
    "\n",
    "The dataset is obtained from [Kaggle](https://www.kaggle.com/datasets/uciml/breast-cancer-wisconsin-data), and contains information such as the average radius, area, smoothness, symmetry, and a few other unique values. The page also contains a link to the UCI Machine Learning Repository, which shows graphs of the performance of different classification models, all of which surpass $90\\%$ accuracy.\n",
    "\n",
    "Just like the previous et's take a look at the data:"
   ]
  },
  {
   "cell_type": "code",
   "execution_count": 21,
   "id": "11f42911-eec5-47bc-a950-b4f9ea009f11",
   "metadata": {
    "tags": []
   },
   "outputs": [],
   "source": [
    "#| echo: false\n",
    "\n",
    "import matplotlib.pyplot as plt\n",
    "\n",
    "plt.rc('font', size=12)\n",
    "plt.rc('axes', labelsize=14, titlesize=14)\n",
    "plt.rc('legend', fontsize=12)\n",
    "plt.rc('xtick', labelsize=10)\n",
    "plt.rc('ytick', labelsize=10)"
   ]
  },
  {
   "cell_type": "code",
   "execution_count": 185,
   "id": "7263883a-d28e-41fe-b615-83d9e2bb3fad",
   "metadata": {
    "tags": []
   },
   "outputs": [
    {
     "data": {
      "text/html": [
       "<div>\n",
       "<style scoped>\n",
       "    .dataframe tbody tr th:only-of-type {\n",
       "        vertical-align: middle;\n",
       "    }\n",
       "\n",
       "    .dataframe tbody tr th {\n",
       "        vertical-align: top;\n",
       "    }\n",
       "\n",
       "    .dataframe thead th {\n",
       "        text-align: right;\n",
       "    }\n",
       "</style>\n",
       "<table border=\"1\" class=\"dataframe\">\n",
       "  <thead>\n",
       "    <tr style=\"text-align: right;\">\n",
       "      <th></th>\n",
       "      <th>id</th>\n",
       "      <th>diagnosis</th>\n",
       "      <th>radius_mean</th>\n",
       "      <th>texture_mean</th>\n",
       "      <th>perimeter_mean</th>\n",
       "      <th>area_mean</th>\n",
       "      <th>smoothness_mean</th>\n",
       "      <th>compactness_mean</th>\n",
       "      <th>concavity_mean</th>\n",
       "      <th>concave points_mean</th>\n",
       "      <th>...</th>\n",
       "      <th>texture_worst</th>\n",
       "      <th>perimeter_worst</th>\n",
       "      <th>area_worst</th>\n",
       "      <th>smoothness_worst</th>\n",
       "      <th>compactness_worst</th>\n",
       "      <th>concavity_worst</th>\n",
       "      <th>concave points_worst</th>\n",
       "      <th>symmetry_worst</th>\n",
       "      <th>fractal_dimension_worst</th>\n",
       "      <th>Unnamed: 32</th>\n",
       "    </tr>\n",
       "  </thead>\n",
       "  <tbody>\n",
       "    <tr>\n",
       "      <th>0</th>\n",
       "      <td>842302</td>\n",
       "      <td>M</td>\n",
       "      <td>17.99</td>\n",
       "      <td>10.38</td>\n",
       "      <td>122.80</td>\n",
       "      <td>1001.0</td>\n",
       "      <td>0.11840</td>\n",
       "      <td>0.27760</td>\n",
       "      <td>0.3001</td>\n",
       "      <td>0.14710</td>\n",
       "      <td>...</td>\n",
       "      <td>17.33</td>\n",
       "      <td>184.60</td>\n",
       "      <td>2019.0</td>\n",
       "      <td>0.1622</td>\n",
       "      <td>0.6656</td>\n",
       "      <td>0.7119</td>\n",
       "      <td>0.2654</td>\n",
       "      <td>0.4601</td>\n",
       "      <td>0.11890</td>\n",
       "      <td>NaN</td>\n",
       "    </tr>\n",
       "    <tr>\n",
       "      <th>1</th>\n",
       "      <td>842517</td>\n",
       "      <td>M</td>\n",
       "      <td>20.57</td>\n",
       "      <td>17.77</td>\n",
       "      <td>132.90</td>\n",
       "      <td>1326.0</td>\n",
       "      <td>0.08474</td>\n",
       "      <td>0.07864</td>\n",
       "      <td>0.0869</td>\n",
       "      <td>0.07017</td>\n",
       "      <td>...</td>\n",
       "      <td>23.41</td>\n",
       "      <td>158.80</td>\n",
       "      <td>1956.0</td>\n",
       "      <td>0.1238</td>\n",
       "      <td>0.1866</td>\n",
       "      <td>0.2416</td>\n",
       "      <td>0.1860</td>\n",
       "      <td>0.2750</td>\n",
       "      <td>0.08902</td>\n",
       "      <td>NaN</td>\n",
       "    </tr>\n",
       "    <tr>\n",
       "      <th>2</th>\n",
       "      <td>84300903</td>\n",
       "      <td>M</td>\n",
       "      <td>19.69</td>\n",
       "      <td>21.25</td>\n",
       "      <td>130.00</td>\n",
       "      <td>1203.0</td>\n",
       "      <td>0.10960</td>\n",
       "      <td>0.15990</td>\n",
       "      <td>0.1974</td>\n",
       "      <td>0.12790</td>\n",
       "      <td>...</td>\n",
       "      <td>25.53</td>\n",
       "      <td>152.50</td>\n",
       "      <td>1709.0</td>\n",
       "      <td>0.1444</td>\n",
       "      <td>0.4245</td>\n",
       "      <td>0.4504</td>\n",
       "      <td>0.2430</td>\n",
       "      <td>0.3613</td>\n",
       "      <td>0.08758</td>\n",
       "      <td>NaN</td>\n",
       "    </tr>\n",
       "    <tr>\n",
       "      <th>3</th>\n",
       "      <td>84348301</td>\n",
       "      <td>M</td>\n",
       "      <td>11.42</td>\n",
       "      <td>20.38</td>\n",
       "      <td>77.58</td>\n",
       "      <td>386.1</td>\n",
       "      <td>0.14250</td>\n",
       "      <td>0.28390</td>\n",
       "      <td>0.2414</td>\n",
       "      <td>0.10520</td>\n",
       "      <td>...</td>\n",
       "      <td>26.50</td>\n",
       "      <td>98.87</td>\n",
       "      <td>567.7</td>\n",
       "      <td>0.2098</td>\n",
       "      <td>0.8663</td>\n",
       "      <td>0.6869</td>\n",
       "      <td>0.2575</td>\n",
       "      <td>0.6638</td>\n",
       "      <td>0.17300</td>\n",
       "      <td>NaN</td>\n",
       "    </tr>\n",
       "    <tr>\n",
       "      <th>4</th>\n",
       "      <td>84358402</td>\n",
       "      <td>M</td>\n",
       "      <td>20.29</td>\n",
       "      <td>14.34</td>\n",
       "      <td>135.10</td>\n",
       "      <td>1297.0</td>\n",
       "      <td>0.10030</td>\n",
       "      <td>0.13280</td>\n",
       "      <td>0.1980</td>\n",
       "      <td>0.10430</td>\n",
       "      <td>...</td>\n",
       "      <td>16.67</td>\n",
       "      <td>152.20</td>\n",
       "      <td>1575.0</td>\n",
       "      <td>0.1374</td>\n",
       "      <td>0.2050</td>\n",
       "      <td>0.4000</td>\n",
       "      <td>0.1625</td>\n",
       "      <td>0.2364</td>\n",
       "      <td>0.07678</td>\n",
       "      <td>NaN</td>\n",
       "    </tr>\n",
       "  </tbody>\n",
       "</table>\n",
       "<p>5 rows × 33 columns</p>\n",
       "</div>"
      ],
      "text/plain": [
       "         id diagnosis  radius_mean  texture_mean  perimeter_mean  area_mean  \\\n",
       "0    842302         M        17.99         10.38          122.80     1001.0   \n",
       "1    842517         M        20.57         17.77          132.90     1326.0   \n",
       "2  84300903         M        19.69         21.25          130.00     1203.0   \n",
       "3  84348301         M        11.42         20.38           77.58      386.1   \n",
       "4  84358402         M        20.29         14.34          135.10     1297.0   \n",
       "\n",
       "   smoothness_mean  compactness_mean  concavity_mean  concave points_mean  \\\n",
       "0          0.11840           0.27760          0.3001              0.14710   \n",
       "1          0.08474           0.07864          0.0869              0.07017   \n",
       "2          0.10960           0.15990          0.1974              0.12790   \n",
       "3          0.14250           0.28390          0.2414              0.10520   \n",
       "4          0.10030           0.13280          0.1980              0.10430   \n",
       "\n",
       "   ...  texture_worst  perimeter_worst  area_worst  smoothness_worst  \\\n",
       "0  ...          17.33           184.60      2019.0            0.1622   \n",
       "1  ...          23.41           158.80      1956.0            0.1238   \n",
       "2  ...          25.53           152.50      1709.0            0.1444   \n",
       "3  ...          26.50            98.87       567.7            0.2098   \n",
       "4  ...          16.67           152.20      1575.0            0.1374   \n",
       "\n",
       "   compactness_worst  concavity_worst  concave points_worst  symmetry_worst  \\\n",
       "0             0.6656           0.7119                0.2654          0.4601   \n",
       "1             0.1866           0.2416                0.1860          0.2750   \n",
       "2             0.4245           0.4504                0.2430          0.3613   \n",
       "3             0.8663           0.6869                0.2575          0.6638   \n",
       "4             0.2050           0.4000                0.1625          0.2364   \n",
       "\n",
       "   fractal_dimension_worst  Unnamed: 32  \n",
       "0                  0.11890          NaN  \n",
       "1                  0.08902          NaN  \n",
       "2                  0.08758          NaN  \n",
       "3                  0.17300          NaN  \n",
       "4                  0.07678          NaN  \n",
       "\n",
       "[5 rows x 33 columns]"
      ]
     },
     "execution_count": 185,
     "metadata": {},
     "output_type": "execute_result"
    }
   ],
   "source": [
    "import matplotlib.pyplot as plt\n",
    "import pandas as pd\n",
    "\n",
    "df = pd.read_csv('cancer.csv', encoding='windows-1252')\n",
    "df.head()"
   ]
  },
  {
   "cell_type": "code",
   "execution_count": 186,
   "id": "cc68c908-54fe-44a1-a998-6e1b383ec761",
   "metadata": {
    "tags": []
   },
   "outputs": [
    {
     "name": "stdout",
     "output_type": "stream",
     "text": [
      "<class 'pandas.core.frame.DataFrame'>\n",
      "RangeIndex: 569 entries, 0 to 568\n",
      "Data columns (total 33 columns):\n",
      " #   Column                   Non-Null Count  Dtype  \n",
      "---  ------                   --------------  -----  \n",
      " 0   id                       569 non-null    int64  \n",
      " 1   diagnosis                569 non-null    object \n",
      " 2   radius_mean              569 non-null    float64\n",
      " 3   texture_mean             569 non-null    float64\n",
      " 4   perimeter_mean           569 non-null    float64\n",
      " 5   area_mean                569 non-null    float64\n",
      " 6   smoothness_mean          569 non-null    float64\n",
      " 7   compactness_mean         569 non-null    float64\n",
      " 8   concavity_mean           569 non-null    float64\n",
      " 9   concave points_mean      569 non-null    float64\n",
      " 10  symmetry_mean            569 non-null    float64\n",
      " 11  fractal_dimension_mean   569 non-null    float64\n",
      " 12  radius_se                569 non-null    float64\n",
      " 13  texture_se               569 non-null    float64\n",
      " 14  perimeter_se             569 non-null    float64\n",
      " 15  area_se                  569 non-null    float64\n",
      " 16  smoothness_se            569 non-null    float64\n",
      " 17  compactness_se           569 non-null    float64\n",
      " 18  concavity_se             569 non-null    float64\n",
      " 19  concave points_se        569 non-null    float64\n",
      " 20  symmetry_se              569 non-null    float64\n",
      " 21  fractal_dimension_se     569 non-null    float64\n",
      " 22  radius_worst             569 non-null    float64\n",
      " 23  texture_worst            569 non-null    float64\n",
      " 24  perimeter_worst          569 non-null    float64\n",
      " 25  area_worst               569 non-null    float64\n",
      " 26  smoothness_worst         569 non-null    float64\n",
      " 27  compactness_worst        569 non-null    float64\n",
      " 28  concavity_worst          569 non-null    float64\n",
      " 29  concave points_worst     569 non-null    float64\n",
      " 30  symmetry_worst           569 non-null    float64\n",
      " 31  fractal_dimension_worst  569 non-null    float64\n",
      " 32  Unnamed: 32              0 non-null      float64\n",
      "dtypes: float64(31), int64(1), object(1)\n",
      "memory usage: 146.8+ KB\n"
     ]
    }
   ],
   "source": [
    "df.info()"
   ]
  },
  {
   "cell_type": "code",
   "execution_count": 187,
   "id": "0f9a4563-a7d1-4aa0-a137-15be25e6ee97",
   "metadata": {
    "tags": []
   },
   "outputs": [
    {
     "data": {
      "text/html": [
       "<div>\n",
       "<style scoped>\n",
       "    .dataframe tbody tr th:only-of-type {\n",
       "        vertical-align: middle;\n",
       "    }\n",
       "\n",
       "    .dataframe tbody tr th {\n",
       "        vertical-align: top;\n",
       "    }\n",
       "\n",
       "    .dataframe thead th {\n",
       "        text-align: right;\n",
       "    }\n",
       "</style>\n",
       "<table border=\"1\" class=\"dataframe\">\n",
       "  <thead>\n",
       "    <tr style=\"text-align: right;\">\n",
       "      <th></th>\n",
       "      <th>id</th>\n",
       "      <th>radius_mean</th>\n",
       "      <th>texture_mean</th>\n",
       "      <th>perimeter_mean</th>\n",
       "      <th>area_mean</th>\n",
       "      <th>smoothness_mean</th>\n",
       "      <th>compactness_mean</th>\n",
       "      <th>concavity_mean</th>\n",
       "      <th>concave points_mean</th>\n",
       "      <th>symmetry_mean</th>\n",
       "      <th>...</th>\n",
       "      <th>texture_worst</th>\n",
       "      <th>perimeter_worst</th>\n",
       "      <th>area_worst</th>\n",
       "      <th>smoothness_worst</th>\n",
       "      <th>compactness_worst</th>\n",
       "      <th>concavity_worst</th>\n",
       "      <th>concave points_worst</th>\n",
       "      <th>symmetry_worst</th>\n",
       "      <th>fractal_dimension_worst</th>\n",
       "      <th>Unnamed: 32</th>\n",
       "    </tr>\n",
       "  </thead>\n",
       "  <tbody>\n",
       "    <tr>\n",
       "      <th>count</th>\n",
       "      <td>5.690000e+02</td>\n",
       "      <td>569.000000</td>\n",
       "      <td>569.000000</td>\n",
       "      <td>569.000000</td>\n",
       "      <td>569.000000</td>\n",
       "      <td>569.000000</td>\n",
       "      <td>569.000000</td>\n",
       "      <td>569.000000</td>\n",
       "      <td>569.000000</td>\n",
       "      <td>569.000000</td>\n",
       "      <td>...</td>\n",
       "      <td>569.000000</td>\n",
       "      <td>569.000000</td>\n",
       "      <td>569.000000</td>\n",
       "      <td>569.000000</td>\n",
       "      <td>569.000000</td>\n",
       "      <td>569.000000</td>\n",
       "      <td>569.000000</td>\n",
       "      <td>569.000000</td>\n",
       "      <td>569.000000</td>\n",
       "      <td>0.0</td>\n",
       "    </tr>\n",
       "    <tr>\n",
       "      <th>mean</th>\n",
       "      <td>3.037183e+07</td>\n",
       "      <td>14.127292</td>\n",
       "      <td>19.289649</td>\n",
       "      <td>91.969033</td>\n",
       "      <td>654.889104</td>\n",
       "      <td>0.096360</td>\n",
       "      <td>0.104341</td>\n",
       "      <td>0.088799</td>\n",
       "      <td>0.048919</td>\n",
       "      <td>0.181162</td>\n",
       "      <td>...</td>\n",
       "      <td>25.677223</td>\n",
       "      <td>107.261213</td>\n",
       "      <td>880.583128</td>\n",
       "      <td>0.132369</td>\n",
       "      <td>0.254265</td>\n",
       "      <td>0.272188</td>\n",
       "      <td>0.114606</td>\n",
       "      <td>0.290076</td>\n",
       "      <td>0.083946</td>\n",
       "      <td>NaN</td>\n",
       "    </tr>\n",
       "    <tr>\n",
       "      <th>std</th>\n",
       "      <td>1.250206e+08</td>\n",
       "      <td>3.524049</td>\n",
       "      <td>4.301036</td>\n",
       "      <td>24.298981</td>\n",
       "      <td>351.914129</td>\n",
       "      <td>0.014064</td>\n",
       "      <td>0.052813</td>\n",
       "      <td>0.079720</td>\n",
       "      <td>0.038803</td>\n",
       "      <td>0.027414</td>\n",
       "      <td>...</td>\n",
       "      <td>6.146258</td>\n",
       "      <td>33.602542</td>\n",
       "      <td>569.356993</td>\n",
       "      <td>0.022832</td>\n",
       "      <td>0.157336</td>\n",
       "      <td>0.208624</td>\n",
       "      <td>0.065732</td>\n",
       "      <td>0.061867</td>\n",
       "      <td>0.018061</td>\n",
       "      <td>NaN</td>\n",
       "    </tr>\n",
       "    <tr>\n",
       "      <th>min</th>\n",
       "      <td>8.670000e+03</td>\n",
       "      <td>6.981000</td>\n",
       "      <td>9.710000</td>\n",
       "      <td>43.790000</td>\n",
       "      <td>143.500000</td>\n",
       "      <td>0.052630</td>\n",
       "      <td>0.019380</td>\n",
       "      <td>0.000000</td>\n",
       "      <td>0.000000</td>\n",
       "      <td>0.106000</td>\n",
       "      <td>...</td>\n",
       "      <td>12.020000</td>\n",
       "      <td>50.410000</td>\n",
       "      <td>185.200000</td>\n",
       "      <td>0.071170</td>\n",
       "      <td>0.027290</td>\n",
       "      <td>0.000000</td>\n",
       "      <td>0.000000</td>\n",
       "      <td>0.156500</td>\n",
       "      <td>0.055040</td>\n",
       "      <td>NaN</td>\n",
       "    </tr>\n",
       "    <tr>\n",
       "      <th>25%</th>\n",
       "      <td>8.692180e+05</td>\n",
       "      <td>11.700000</td>\n",
       "      <td>16.170000</td>\n",
       "      <td>75.170000</td>\n",
       "      <td>420.300000</td>\n",
       "      <td>0.086370</td>\n",
       "      <td>0.064920</td>\n",
       "      <td>0.029560</td>\n",
       "      <td>0.020310</td>\n",
       "      <td>0.161900</td>\n",
       "      <td>...</td>\n",
       "      <td>21.080000</td>\n",
       "      <td>84.110000</td>\n",
       "      <td>515.300000</td>\n",
       "      <td>0.116600</td>\n",
       "      <td>0.147200</td>\n",
       "      <td>0.114500</td>\n",
       "      <td>0.064930</td>\n",
       "      <td>0.250400</td>\n",
       "      <td>0.071460</td>\n",
       "      <td>NaN</td>\n",
       "    </tr>\n",
       "    <tr>\n",
       "      <th>50%</th>\n",
       "      <td>9.060240e+05</td>\n",
       "      <td>13.370000</td>\n",
       "      <td>18.840000</td>\n",
       "      <td>86.240000</td>\n",
       "      <td>551.100000</td>\n",
       "      <td>0.095870</td>\n",
       "      <td>0.092630</td>\n",
       "      <td>0.061540</td>\n",
       "      <td>0.033500</td>\n",
       "      <td>0.179200</td>\n",
       "      <td>...</td>\n",
       "      <td>25.410000</td>\n",
       "      <td>97.660000</td>\n",
       "      <td>686.500000</td>\n",
       "      <td>0.131300</td>\n",
       "      <td>0.211900</td>\n",
       "      <td>0.226700</td>\n",
       "      <td>0.099930</td>\n",
       "      <td>0.282200</td>\n",
       "      <td>0.080040</td>\n",
       "      <td>NaN</td>\n",
       "    </tr>\n",
       "    <tr>\n",
       "      <th>75%</th>\n",
       "      <td>8.813129e+06</td>\n",
       "      <td>15.780000</td>\n",
       "      <td>21.800000</td>\n",
       "      <td>104.100000</td>\n",
       "      <td>782.700000</td>\n",
       "      <td>0.105300</td>\n",
       "      <td>0.130400</td>\n",
       "      <td>0.130700</td>\n",
       "      <td>0.074000</td>\n",
       "      <td>0.195700</td>\n",
       "      <td>...</td>\n",
       "      <td>29.720000</td>\n",
       "      <td>125.400000</td>\n",
       "      <td>1084.000000</td>\n",
       "      <td>0.146000</td>\n",
       "      <td>0.339100</td>\n",
       "      <td>0.382900</td>\n",
       "      <td>0.161400</td>\n",
       "      <td>0.317900</td>\n",
       "      <td>0.092080</td>\n",
       "      <td>NaN</td>\n",
       "    </tr>\n",
       "    <tr>\n",
       "      <th>max</th>\n",
       "      <td>9.113205e+08</td>\n",
       "      <td>28.110000</td>\n",
       "      <td>39.280000</td>\n",
       "      <td>188.500000</td>\n",
       "      <td>2501.000000</td>\n",
       "      <td>0.163400</td>\n",
       "      <td>0.345400</td>\n",
       "      <td>0.426800</td>\n",
       "      <td>0.201200</td>\n",
       "      <td>0.304000</td>\n",
       "      <td>...</td>\n",
       "      <td>49.540000</td>\n",
       "      <td>251.200000</td>\n",
       "      <td>4254.000000</td>\n",
       "      <td>0.222600</td>\n",
       "      <td>1.058000</td>\n",
       "      <td>1.252000</td>\n",
       "      <td>0.291000</td>\n",
       "      <td>0.663800</td>\n",
       "      <td>0.207500</td>\n",
       "      <td>NaN</td>\n",
       "    </tr>\n",
       "  </tbody>\n",
       "</table>\n",
       "<p>8 rows × 32 columns</p>\n",
       "</div>"
      ],
      "text/plain": [
       "                 id  radius_mean  texture_mean  perimeter_mean    area_mean  \\\n",
       "count  5.690000e+02   569.000000    569.000000      569.000000   569.000000   \n",
       "mean   3.037183e+07    14.127292     19.289649       91.969033   654.889104   \n",
       "std    1.250206e+08     3.524049      4.301036       24.298981   351.914129   \n",
       "min    8.670000e+03     6.981000      9.710000       43.790000   143.500000   \n",
       "25%    8.692180e+05    11.700000     16.170000       75.170000   420.300000   \n",
       "50%    9.060240e+05    13.370000     18.840000       86.240000   551.100000   \n",
       "75%    8.813129e+06    15.780000     21.800000      104.100000   782.700000   \n",
       "max    9.113205e+08    28.110000     39.280000      188.500000  2501.000000   \n",
       "\n",
       "       smoothness_mean  compactness_mean  concavity_mean  concave points_mean  \\\n",
       "count       569.000000        569.000000      569.000000           569.000000   \n",
       "mean          0.096360          0.104341        0.088799             0.048919   \n",
       "std           0.014064          0.052813        0.079720             0.038803   \n",
       "min           0.052630          0.019380        0.000000             0.000000   \n",
       "25%           0.086370          0.064920        0.029560             0.020310   \n",
       "50%           0.095870          0.092630        0.061540             0.033500   \n",
       "75%           0.105300          0.130400        0.130700             0.074000   \n",
       "max           0.163400          0.345400        0.426800             0.201200   \n",
       "\n",
       "       symmetry_mean  ...  texture_worst  perimeter_worst   area_worst  \\\n",
       "count     569.000000  ...     569.000000       569.000000   569.000000   \n",
       "mean        0.181162  ...      25.677223       107.261213   880.583128   \n",
       "std         0.027414  ...       6.146258        33.602542   569.356993   \n",
       "min         0.106000  ...      12.020000        50.410000   185.200000   \n",
       "25%         0.161900  ...      21.080000        84.110000   515.300000   \n",
       "50%         0.179200  ...      25.410000        97.660000   686.500000   \n",
       "75%         0.195700  ...      29.720000       125.400000  1084.000000   \n",
       "max         0.304000  ...      49.540000       251.200000  4254.000000   \n",
       "\n",
       "       smoothness_worst  compactness_worst  concavity_worst  \\\n",
       "count        569.000000         569.000000       569.000000   \n",
       "mean           0.132369           0.254265         0.272188   \n",
       "std            0.022832           0.157336         0.208624   \n",
       "min            0.071170           0.027290         0.000000   \n",
       "25%            0.116600           0.147200         0.114500   \n",
       "50%            0.131300           0.211900         0.226700   \n",
       "75%            0.146000           0.339100         0.382900   \n",
       "max            0.222600           1.058000         1.252000   \n",
       "\n",
       "       concave points_worst  symmetry_worst  fractal_dimension_worst  \\\n",
       "count            569.000000      569.000000               569.000000   \n",
       "mean               0.114606        0.290076                 0.083946   \n",
       "std                0.065732        0.061867                 0.018061   \n",
       "min                0.000000        0.156500                 0.055040   \n",
       "25%                0.064930        0.250400                 0.071460   \n",
       "50%                0.099930        0.282200                 0.080040   \n",
       "75%                0.161400        0.317900                 0.092080   \n",
       "max                0.291000        0.663800                 0.207500   \n",
       "\n",
       "       Unnamed: 32  \n",
       "count          0.0  \n",
       "mean           NaN  \n",
       "std            NaN  \n",
       "min            NaN  \n",
       "25%            NaN  \n",
       "50%            NaN  \n",
       "75%            NaN  \n",
       "max            NaN  \n",
       "\n",
       "[8 rows x 32 columns]"
      ]
     },
     "execution_count": 187,
     "metadata": {},
     "output_type": "execute_result"
    }
   ],
   "source": [
    "df.describe()"
   ]
  },
  {
   "cell_type": "markdown",
   "id": "5a9f2c86-e170-4a81-a79a-526acdfaae57",
   "metadata": {},
   "source": [
    "Now that we've seen some of the data, let's move on to our first model.\n",
    "\n",
    "---"
   ]
  },
  {
   "cell_type": "markdown",
   "id": "0777cff7-5a67-40b4-8476-e9a8b36da08d",
   "metadata": {},
   "source": [
    "## Logistic Regression"
   ]
  },
  {
   "cell_type": "markdown",
   "id": "51d7a78c-301d-40b6-a891-f868b1ca13bd",
   "metadata": {},
   "source": [
    "Logistic Regression has a very strong relationship to Linear Regression. In fact, it actually uses the Linear Regression equation in its own equation! To get a feel for how it works, let's plot some data.\n",
    "\n",
    "First, we have to convert the output labels into numbers so that we can actually plot them. We will assign a value of `1` to malignant tumors and `0` to benign tumors."
   ]
  },
  {
   "cell_type": "code",
   "execution_count": 188,
   "id": "3b4e1a4f-61e3-4f9d-b2f8-c0ac32ab4dc0",
   "metadata": {
    "tags": []
   },
   "outputs": [],
   "source": [
    "arr = [1 if element == \"M\" else 0 for element in df['diagnosis']]\n",
    "df.insert(33, \"diagnosis_number\", arr)"
   ]
  },
  {
   "cell_type": "markdown",
   "id": "5e3d222c-73ef-40fa-9340-cbbff99253e6",
   "metadata": {},
   "source": [
    "Now, let's plot the diagnoses against the mean radius:"
   ]
  },
  {
   "cell_type": "code",
   "execution_count": 190,
   "id": "f7408b7d-e3b5-48a7-86b3-8f3f8627e542",
   "metadata": {
    "tags": []
   },
   "outputs": [
    {
     "data": {
      "image/png": "[encoded data removed]",
      "text/plain": [
       "<Figure size 640x480 with 1 Axes>"
      ]
     },
     "metadata": {},
     "output_type": "display_data"
    }
   ],
   "source": [
    "#| fig-align: center\n",
    "\n",
    "scatter = df.plot.scatter(x='radius_mean', y='diagnosis_number', alpha=0.5)"
   ]
  },
  {
   "cell_type": "markdown",
   "id": "72c53cf1-5b82-48b9-8f3a-1cf765f177dd",
   "metadata": {},
   "source": [
    "We can see that tumors below ~$12$ millimeters are guaranteed to be benign, while tumors above ~$18$ are guaranteed to be malignant. The gray area is in between these two numbers.\n",
    "\n",
    "Now, imagine trying to fit a Linear Regression line to this. Of course, it doesn't make much sense to do this, since our data clearly does not have a linear relationship. But just for fun, let's imagine that we did. This line would clearly pass through both groupings of values, with each end of the line somewhere near the most dense areas of the data. However, since we're not trying to make predictions on an output value but rather an output *class*, we need to modify this line to vary only between $0$ and $1$. The best function to do this with is the *sigmoid* function:"
   ]
  },
  {
   "cell_type": "markdown",
   "id": "1d645096-de8b-4379-8258-93d8a9c10e02",
   "metadata": {},
   "source": [
    "$$f(x) = \\frac{1}{1 + e^{-x}}$$"
   ]
  },
  {
   "cell_type": "markdown",
   "id": "3f32b6d5-c23c-4bcc-a58a-a78ec6f1d390",
   "metadata": {},
   "source": [
    "Since we're modifying the line itself, our the variable in the exponential of our sigmoid is going to be replaced with the equation for the Linear Regression line. If you don't recall, that was:"
   ]
  },
  {
   "cell_type": "markdown",
   "id": "0e3b31a7-e206-4eff-a2b4-0cc2ff73a746",
   "metadata": {},
   "source": [
    "$$f(x) = \\beta_0 + \\beta_1x_1 + \\beta_2x_2 + \\beta_3x_3 + \\ldots$$"
   ]
  },
  {
   "cell_type": "markdown",
   "id": "dfabe4ec-9201-4d87-87a6-ae429c7a561e",
   "metadata": {},
   "source": [
    "Placing this into the exponential:"
   ]
  },
  {
   "cell_type": "markdown",
   "id": "6c9dc4c0-bced-4817-940f-dde19b125ded",
   "metadata": {},
   "source": [
    "$$f(x) = \\frac{1}{1 + e^{-(\\beta_0 + \\beta_1x_1 + \\beta_2x_2 + \\beta_3x_3 + \\ldots)}}$$"
   ]
  },
  {
   "cell_type": "markdown",
   "id": "dcecf669-ea67-484e-943d-561d3528089b",
   "metadata": {},
   "source": [
    "That's it! It's as simple as modifying a Linear Regression line. Of course, there is *a lot* more theory behind Logistic Regression, but this is essentially all it takes to understand what is happening.\n",
    "\n",
    "Before we get into using it, though, we need to talk about one thing that is very important for classification. In order to measure how well our model is performing, we need to separate our data. The reason for this is that if you train you model on all of the data you have, then you can only test it on data that the model has already been trained on. This means you won't be able to effectively measure how well your model generalizes to new data. To combot this, the dataset is almost always split into two different sets: the ***training set***, and the ***test set***. The most common ratio to use for split is $80/20$, so we'll try that out:"
   ]
  },
  {
   "cell_type": "code",
   "execution_count": 211,
   "id": "8ba3d6a3-b1ed-4d33-b26b-647166724625",
   "metadata": {
    "tags": []
   },
   "outputs": [
    {
     "name": "stdout",
     "output_type": "stream",
     "text": [
      "0.8879120879120879\n",
      "0.8421052631578947\n"
     ]
    }
   ],
   "source": [
    "import numpy as np\n",
    "from sklearn.linear_model import LogisticRegression\n",
    "from sklearn.model_selection import train_test_split\n",
    "\n",
    "X = np.asarray(df['radius_mean']).reshape(-1, 1)\n",
    "y = np.asarray(df['diagnosis_number'])\n",
    "\n",
    "X_train, X_test, y_train, y_test = train_test_split(X, y, test_size=0.20, random_state=15)\n",
    "\n",
    "clf = LogisticRegression(random_state=15).fit(X_train, y_train)\n",
    "print(clf.score(X_train, y_train))\n",
    "print(clf.score(X_test, y_test))"
   ]
  },
  {
   "cell_type": "markdown",
   "id": "27d8583b-b159-414f-b5cc-3b2119e77bbd",
   "metadata": {},
   "source": [
    "Notice that we trained our model on the training set, and we get around $88.8\\%$ accuracy when we compare it to the training set itself. However, when we compare it to the test set, we only get around $84\\%$. This is why it's important to have different sets for training and testing. Either way, getting more than 4 out of 5 guesses right isn't bad at all. \n",
    "\n",
    "Now, let's do a visualization of the Linear Regression line and Logistic Regression curve:"
   ]
  },
  {
   "cell_type": "code",
   "execution_count": 222,
   "id": "a487e84b-eb8d-4c85-9323-0e3b85c44112",
   "metadata": {
    "tags": []
   },
   "outputs": [
    {
     "data": {
      "image/png": "[encoded data removed]",
      "text/plain": [
       "<Figure size 640x480 with 1 Axes>"
      ]
     },
     "metadata": {},
     "output_type": "display_data"
    }
   ],
   "source": [
    "#| fig-align: center\n",
    "\n",
    "b0 = clf.intercept_[0]\n",
    "b1 = clf.coef_[0][0]\n",
    "\n",
    "plt.scatter(df['radius_mean'], df['diagnosis_number'], alpha=0.5)\n",
    "xaxis = np.linspace(14.7, 15.6, 100).reshape(100, 1)\n",
    "yaxis = [(element * b1) + b0 for element in xaxis]\n",
    "plt.plot(xaxis, yaxis, \"red\")\n",
    "plt.show()"
   ]
  },
  {
   "cell_type": "markdown",
   "id": "a579f676-01f6-4418-b5c1-8761036a295a",
   "metadata": {},
   "source": [
    "There's the Linear Regression line. Let's see what it looks like after transforming it:"
   ]
  },
  {
   "cell_type": "code",
   "execution_count": 224,
   "id": "2b89ed67-00da-4c9d-9b9f-1c8acb24bfc4",
   "metadata": {
    "tags": []
   },
   "outputs": [
    {
     "data": {
      "image/png": "[encoded data removed]",
      "text/plain": [
       "<Figure size 640x480 with 1 Axes>"
      ]
     },
     "metadata": {},
     "output_type": "display_data"
    }
   ],
   "source": [
    "#| fig-align: center\n",
    "\n",
    "plt.scatter(df['radius_mean'], df['diagnosis_number'], alpha=0.5)\n",
    "xaxis = np.linspace(min(df['radius_mean']), max(df['radius_mean']), 100).reshape(100, 1)\n",
    "yaxis = [1 / (1 + np.exp(-1 * ((element * b1) + b0))) for element in xaxis]\n",
    "plt.plot(xaxis, yaxis, \"green\")\n",
    "plt.show()"
   ]
  },
  {
   "cell_type": "markdown",
   "id": "267004bc-48c6-41d0-b28f-7579f6fbdb84",
   "metadata": {},
   "source": [
    "Very nice! We have a smooth variation from $0$ to $1$, whereas the Linear Regression would continue forever in either direction. \n",
    "\n",
    "Let's try making a prediction!"
   ]
  },
  {
   "cell_type": "code",
   "execution_count": 228,
   "id": "338a0759-15a7-4325-8bc6-4507bfb0be69",
   "metadata": {
    "tags": []
   },
   "outputs": [
    {
     "name": "stdout",
     "output_type": "stream",
     "text": [
      "12 millimeters: Benign\n",
      "18 millimeters: Malignant\n"
     ]
    }
   ],
   "source": [
    "measurement_1 = 12\n",
    "measurement_2 = 18\n",
    "class1 = clf.predict(np.array([measurement_1]).reshape(1, -1))[0]\n",
    "class2 = clf.predict(np.array([measurement_2]).reshape(1, -1))[0]\n",
    "\n",
    "print(\"12 millimeters:\", \"Malignant\" if class1 == 1 else \"Benign\")\n",
    "print(\"18 millimeters:\", \"Malignant\" if class2 == 1 else \"Benign\")"
   ]
  },
  {
   "cell_type": "markdown",
   "id": "4ba10bc2-b894-434a-a7ef-f076f412f293",
   "metadata": {},
   "source": [
    "It's definitely working. But that raises a question: \"why not just use linear regression and have the decision be based on the midpoint of the line?\" That is a very good question. You could, for example, find the $x$ value that corresponds to $y = 0.5$ on the line and classify any measurement that is greather than that $x$ value as a $1$, and $0$ for any values less than that $x$ value. The thing this misses is the *probability*. Since Logistic Regression curves vary between $0$ and $1$, the probability of the measurement belonging to a class is given by the curve itself. Here's an example:"
   ]
  },
  {
   "cell_type": "code",
   "execution_count": 234,
   "id": "bccb49be-df16-42d3-ad8e-d68b58305bff",
   "metadata": {
    "tags": []
   },
   "outputs": [
    {
     "name": "stdout",
     "output_type": "stream",
     "text": [
      "Measurement 1: 12 millimeters\n",
      "Probability of being benign: 95.17 %\n",
      "Probability of being malignant: 4.83 %\n",
      "\n",
      "Measurement 2: 18 millimeters\n",
      "Probability of being benign: 2.57 %\n",
      "Probability of being malignant: 97.43 %\n",
      "\n"
     ]
    }
   ],
   "source": [
    "print(\"Measurement 1:\", measurement_1, \"millimeters\")\n",
    "measurement1_prob = clf.predict_proba(np.array([measurement_1]).reshape(1, -1))\n",
    "measurement1_class1_prob = measurement1_prob[0][0]\n",
    "measurement1_class2_prob = measurement1_prob[0][1]\n",
    "print(\"Probability of being benign:\", round(measurement1_class1_prob * 100, 2), \"%\")\n",
    "print(\"Probability of being malignant:\", round(measurement1_class2_prob * 100, 2), \"%\\n\")\n",
    "\n",
    "print(\"Measurement 2:\", measurement_2, \"millimeters\")\n",
    "measurement2_prob = clf.predict_proba(np.array([measurement_2]).reshape(1, -1))\n",
    "measurement2_class1_prob = measurement2_prob[0][0]\n",
    "measurement2_class2_prob = measurement2_prob[0][1]\n",
    "print(\"Probability of being benign:\", round(measurement2_class1_prob * 100, 2), \"%\")\n",
    "print(\"Probability of being malignant:\", round(measurement2_class2_prob * 100, 2), \"%\\n\")"
   ]
  },
  {
   "cell_type": "markdown",
   "id": "24a40697-4ee8-41ff-a710-e21f5e37bcb3",
   "metadata": {},
   "source": [
    "Super neat, right? Let's try to find the point that is the hardest to classify:"
   ]
  },
  {
   "cell_type": "markdown",
   "id": "7d558198-2ac1-4152-ae8e-e49906d1b927",
   "metadata": {},
   "source": [
    "$$\\begin{equation}\n",
    "\\begin{split}\n",
    "\\frac{1}{1 + e^{-(\\beta_0 + \\beta_1x)}} = 0.5 \\longrightarrow 1 + e^{-(\\beta_0 + \\beta_1x)} = 2 \\longrightarrow \\ln(e^{-(\\beta_0 + \\beta_1x)}) &= \\ln(1)\\\\\n",
    "-(\\beta_0 + \\beta_1x) &= 0\\\\\n",
    "x &= -\\frac{\\beta_0}{\\beta_1}\n",
    "\\end{split}\n",
    "\\end{equation}$$"
   ]
  },
  {
   "cell_type": "code",
   "execution_count": 237,
   "id": "08c26840-768c-498e-b53c-28fb0f05e76c",
   "metadata": {
    "tags": []
   },
   "outputs": [
    {
     "data": {
      "text/plain": [
       "14.702869626376605"
      ]
     },
     "execution_count": 237,
     "metadata": {},
     "output_type": "execute_result"
    }
   ],
   "source": [
    "measurement_3 = -b0/b1\n",
    "measurement_3"
   ]
  },
  {
   "cell_type": "markdown",
   "id": "446e5a1c-555e-4045-87c1-497a81a93d2b",
   "metadata": {},
   "source": [
    "Looking back up at the sigmoidal graph, this definitely seems to be close to the center point. Let's check out the probabilities:"
   ]
  },
  {
   "cell_type": "code",
   "execution_count": 239,
   "id": "e7ee4bc6-47a5-4c30-946b-1dd01e31ed7f",
   "metadata": {
    "tags": []
   },
   "outputs": [
    {
     "name": "stdout",
     "output_type": "stream",
     "text": [
      "Measurement 3: 14.7 millimeters\n",
      "Probability of being benign: 50.0 %\n",
      "Probability of being malignant: 50.0 %\n",
      "\n"
     ]
    }
   ],
   "source": [
    "print(\"Measurement 3:\", round(measurement_3, 2), \"millimeters\")\n",
    "measurement3_prob = clf.predict_proba(np.array([measurement_3]).reshape(1, -1))\n",
    "measurement3_class1_prob = measurement3_prob[0][0]\n",
    "measurement3_class2_prob = measurement3_prob[0][1]\n",
    "print(\"Probability of being benign:\", round(measurement3_class1_prob * 100, 2), \"%\")\n",
    "print(\"Probability of being malignant:\", round(measurement3_class2_prob * 100, 2), \"%\\n\")"
   ]
  },
  {
   "cell_type": "markdown",
   "id": "b1735d3b-b6a9-4d71-9130-7c73d617c199",
   "metadata": {},
   "source": [
    "Sure enough, it's a $50/50$ shot. Just for fun, let's check the classification that `LogisticRegression` decides:"
   ]
  },
  {
   "cell_type": "code",
   "execution_count": 245,
   "id": "e95246b4-d686-49eb-ba30-30fad5ab4ac7",
   "metadata": {
    "tags": []
   },
   "outputs": [
    {
     "name": "stdout",
     "output_type": "stream",
     "text": [
      "Benign\n"
     ]
    }
   ],
   "source": [
    "print(\"Malignant\" if clf.predict(np.array([measurement_3]).reshape(1, -1))[0] == 1 else \"Benign\")"
   ]
  },
  {
   "cell_type": "markdown",
   "id": "72193145-1d40-4a90-817c-ce0f2da0bc20",
   "metadata": {},
   "source": [
    "---\n",
    "\n",
    "# Classification Metrics"
   ]
  },
  {
   "cell_type": "markdown",
   "id": "d8fd30e3-65d5-491e-a987-0124fadd3b2c",
   "metadata": {},
   "source": [
    "## Confusion Matrix"
   ]
  },
  {
   "cell_type": "markdown",
   "id": "f6f4bd6c-df71-40af-a87f-b23aee3b579d",
   "metadata": {},
   "source": [
    "Now, let's move away from the guesswork and check what metrics we have to guage our model's classification performance. If we had more insight than just raw percentages, we might be able to tune our model for our specific purpose.\n",
    "\n",
    "We're going to look at something called the confusion matrix:"
   ]
  },
  {
   "cell_type": "code",
   "execution_count": 248,
   "id": "934d7b9c-f9af-4205-94db-8c773e815579",
   "metadata": {
    "tags": []
   },
   "outputs": [
    {
     "data": {
      "image/png": "[encoded data removed]",
      "text/plain": [
       "<Figure size 640x480 with 2 Axes>"
      ]
     },
     "metadata": {},
     "output_type": "display_data"
    }
   ],
   "source": [
    "#| fig-align: center\n",
    "\n",
    "from sklearn.model_selection import cross_val_predict\n",
    "from sklearn.metrics import confusion_matrix, ConfusionMatrixDisplay\n",
    "\n",
    "y_train_pred = cross_val_predict(clf, X_train, y_train, cv=3)\n",
    "cm = confusion_matrix(y_train, y_train_pred)\n",
    "\n",
    "plt.rc('font', size=9)\n",
    "ConfusionMatrixDisplay.from_predictions(y_train, y_train_pred)\n",
    "plt.show()"
   ]
  },
  {
   "cell_type": "markdown",
   "id": "61e2af7a-d267-49c5-b3c3-2feb6eb44f0c",
   "metadata": {},
   "source": [
    "The vertical axis represents actual benign or malignant classes, while the horizontal axis represents the classification that our model made. You can see that our model correctly classified $263$ benign tumors and $141$ malignant tumors, but accidentally flagged $19$ benign tumors as malignant, and let $32$ malignant tumors fly under the radar as benign.\n",
    "\n",
    "The bottom right value represents ***True Positives (TP)***, while the top left value represents ***True Negatives (TN)***. Conversely, the top right value represents ***False Positives (FP)*** and the bottom left value represents ***False Negatives (FN)***. Here's another way to look at it:"
   ]
  },
  {
   "cell_type": "markdown",
   "id": "9797bfd1-697e-4609-b2c5-9a2c3b5462ad",
   "metadata": {},
   "source": [
    "$$ \\begin{bmatrix}\n",
    "\\mathrm{True~Negatives} & \\mathrm{False~Positives}\\\\\n",
    "\\mathrm{False~Negatives} & \\mathrm{True~Positives}\n",
    "\\end{bmatrix} $$"
   ]
  },
  {
   "cell_type": "markdown",
   "id": "0d762264-5d47-4847-ae10-dcaa33801963",
   "metadata": {},
   "source": [
    "This matrix gives us a good idea of what kind of mistakes our model is making. Now, let's look at the two main numeric metrics that are used to rate the performance of our model."
   ]
  },
  {
   "cell_type": "markdown",
   "id": "c20e35c4-87fe-41f2-8e87-760379a7e0e0",
   "metadata": {},
   "source": [
    "## Precision and Recall"
   ]
  },
  {
   "cell_type": "markdown",
   "id": "3e931dfe-0f52-48b8-99df-faea84ec9fb3",
   "metadata": {},
   "source": [
    "We'll start with ***Precision*** first. Precision is the ratio of true positives to total positive *guesses*. In other words, it is a metric that describes how many positive classifications that we were *actually* right about, relative to how many positives that we *said* there were. Mathematically:"
   ]
  },
  {
   "cell_type": "markdown",
   "id": "fcb9becf-028c-4b2a-8a1c-98c26c00925f",
   "metadata": {},
   "source": [
    "$$\\mathrm{Precision} = \\frac{\\mathrm{TP}}{\\mathrm{TP} + \\mathrm{FP}}$$"
   ]
  },
  {
   "cell_type": "markdown",
   "id": "4c3d53ac-4dd5-4a93-bd7b-a65fc1d6a974",
   "metadata": {},
   "source": [
    "We can calulate this manually using our confusion matrix:"
   ]
  },
  {
   "cell_type": "code",
   "execution_count": 249,
   "id": "72634c62-a47a-4665-ab26-e80e753cdd8a",
   "metadata": {
    "tags": []
   },
   "outputs": [
    {
     "data": {
      "text/plain": [
       "0.88125"
      ]
     },
     "execution_count": 249,
     "metadata": {},
     "output_type": "execute_result"
    }
   ],
   "source": [
    "cm[1, 1] / (cm[0, 1] + cm[1, 1])"
   ]
  },
  {
   "cell_type": "markdown",
   "id": "25816ea9-3b45-4da7-b7fd-ccfe85d73be8",
   "metadata": {},
   "source": [
    "Or take it from `scikit-learn` itself:"
   ]
  },
  {
   "cell_type": "code",
   "execution_count": 251,
   "id": "56abc5cd-8638-4524-a598-e4cb33202170",
   "metadata": {
    "tags": []
   },
   "outputs": [
    {
     "data": {
      "text/plain": [
       "0.88125"
      ]
     },
     "execution_count": 251,
     "metadata": {},
     "output_type": "execute_result"
    }
   ],
   "source": [
    "from sklearn.metrics import precision_score\n",
    "\n",
    "precision_score(y_train, y_train_pred)"
   ]
  },
  {
   "cell_type": "markdown",
   "id": "012493b7-3493-447a-bdd2-6156719edd9e",
   "metadata": {},
   "source": [
    "We can also just verify this mathematically:"
   ]
  },
  {
   "cell_type": "markdown",
   "id": "582e82be-8fc9-4361-b797-ec830b6889e2",
   "metadata": {},
   "source": [
    "$$\\frac{141}{141 + 19} = \\frac{141}{160} = 0.88125$$"
   ]
  },
  {
   "cell_type": "markdown",
   "id": "9cea68c7-cd4f-4747-abbd-e560d971f0e6",
   "metadata": {},
   "source": [
    "This means that out of all tumors that our model *said* were malignant, roughly $88\\%$ were *actually* malignant."
   ]
  },
  {
   "cell_type": "markdown",
   "id": "83f482a6-b4b6-437e-9601-690c9569f121",
   "metadata": {},
   "source": [
    "The other main metric is ***Recall***. Recall is the ratio of true positives to *total positives*. In other words, it is a metric that describes how many positive classifications that we were *right* about, relative to how many positives there *actually* were. Mathematically:"
   ]
  },
  {
   "cell_type": "markdown",
   "id": "28898774-101e-4b7c-80fa-6c40bdd1356f",
   "metadata": {},
   "source": [
    "$$\\mathrm{Recall} = \\frac{\\mathrm{TP}}{\\mathrm{TP} + \\mathrm{FN}}$$"
   ]
  },
  {
   "cell_type": "markdown",
   "id": "b011c716-c2d9-482e-b81d-bab467a9782c",
   "metadata": {},
   "source": [
    "We can calulate this manually using our confusion matrix:"
   ]
  },
  {
   "cell_type": "code",
   "execution_count": 252,
   "id": "e1f9d6a6-bec0-4c17-81a2-a75f05d556e3",
   "metadata": {
    "tags": []
   },
   "outputs": [
    {
     "data": {
      "text/plain": [
       "0.815028901734104"
      ]
     },
     "execution_count": 252,
     "metadata": {},
     "output_type": "execute_result"
    }
   ],
   "source": [
    "cm[1, 1] / (cm[1, 0] + cm[1, 1])"
   ]
  },
  {
   "cell_type": "markdown",
   "id": "fcff0c61-1e70-4a60-b423-a2356005a50f",
   "metadata": {},
   "source": [
    "Or use `scikit-learn`'s built-in functions:"
   ]
  },
  {
   "cell_type": "code",
   "execution_count": 254,
   "id": "08884516-843a-444a-bd16-d4026731190d",
   "metadata": {
    "tags": []
   },
   "outputs": [
    {
     "data": {
      "text/plain": [
       "0.815028901734104"
      ]
     },
     "execution_count": 254,
     "metadata": {},
     "output_type": "execute_result"
    }
   ],
   "source": [
    "from sklearn.metrics import recall_score\n",
    "\n",
    "recall_score(y_train, y_train_pred)"
   ]
  },
  {
   "cell_type": "markdown",
   "id": "8fe78aa9-7444-4fe3-8dc4-88bb6f587980",
   "metadata": {},
   "source": [
    "And of course we can verify this mathematically again:"
   ]
  },
  {
   "cell_type": "markdown",
   "id": "37c57745-4016-4650-a22d-9c45bc5764b1",
   "metadata": {},
   "source": [
    "$$\\frac{141}{141 + 32} = \\frac{141}{173} = 0.815028901734104$$"
   ]
  },
  {
   "cell_type": "markdown",
   "id": "66ab4d5d-d975-482e-a979-9dff3e84ce75",
   "metadata": {},
   "source": [
    "This tells us that our classifier only classified roughly $81.5\\%$ of ***all*** malignant tumors correctly.\n",
    "\n",
    "To see the difference between these two metrics, let's imagine that these images of malignant tumors are known criminals, and we're guards on the look out. Our precision and recall tell us that our classifier let nearly $18.5\\%$ ($1 - \\mathrm{Recall} = 100\\% - 81.5\\%$) of all criminals sneak by, and out of all the people we stopped, around $12\\%$ ($1 - \\mathrm{Precision} = 100\\% - 88\\%$) of them were innocent civilians!\n",
    "\n",
    "As it turns out, for any model that has *some* error, the precision and recall values are inextricably linked. Looking back at our \"civilian vs. criminal\" example, let's think about how we might try to classify civilians from criminals. Assuming we could see all the individuals at once, we may use some identifiable features or behaviors to set a \"score\" to each person. A person with a higher \"score\" is more likely to be a criminal, and a lower \"score\" means that person is probably a civilian. Once we've assigned each person a score, we need to set a threshold value above which we will assume all people are criminals, and below which we will assume all people are civilians.\n",
    "\n",
    "Once we have a score for each person and all of those scores are placed in order along a horizontal number line, we can set a vertical dividing line with all scores on the right side containing scores belonging to criminals and the left side containing scores belonging to civilians. Now, assuming our model is imperfect, we will have some civilians on the right side of the line (false positives) and some criminals on the left side of the line (false negatives). If we shift our threshold to the right, this stops classifying so many civilians as criminals, but it also stops classifying so many **criminals** as criminals. In other words, the number of false positives will go down, but the number of false negatives will go up. Looking at our equations for precision and recall again:"
   ]
  },
  {
   "cell_type": "markdown",
   "id": "f30667ce-18b2-43ce-8121-a8c925289017",
   "metadata": {},
   "source": [
    "$$\\mathrm{Precision} = \\frac{\\mathrm{TP}}{\\mathrm{TP} + \\mathrm{FP}}$$\n",
    "\n",
    "$$\\mathrm{Recall} = \\frac{\\mathrm{TP}}{\\mathrm{TP} + \\mathrm{FN}}$$"
   ]
  },
  {
   "cell_type": "markdown",
   "id": "cda3108a-5cf3-4245-b511-7cf7807d3478",
   "metadata": {},
   "source": [
    "We can see that the decrease of false positives will cause precision to increase, but the increase in false negatives will cause the recall to decrease. Theoretically, if we moved the threshold all the way to the right so that no one's score is high enough to be classified as a criminal, we would theoretically have a precision of $100\\%$! This is great on paper, but it is only occurring because we're not classying **anyone** as a criminal, so we have no room to fail. In other words, \"you miss 100% of the shots you don't take\".\n",
    "\n",
    "Conversely, if we move the threshold to the left, our number of classified criminals will increase, but we will also be classifying more civilians as criminals. In other words, the number of false negatives will go down, but the number of false positives will go up. We can see from the equations above that this will result in the decrease of precision and the increase of recall. Again, if the threshold reaches the very edge, and we classify all people as criminals, then our recall looks good on paper ($100\\%$), but only because we're accusing *everyone* of being a criminal. In other words, \"you will hit 100% of your shots, if you take every shot possible\".\n",
    "\n",
    "This conundrum is known as the ***Precision-Recall Tradeoff***. We can visualize the changing of the precision and recall with the shifting of the threshold using a graph:"
   ]
  },
  {
   "cell_type": "code",
   "execution_count": 267,
   "id": "3c9e04fc-b7a0-471c-ab43-6609fbf811ad",
   "metadata": {
    "tags": []
   },
   "outputs": [
    {
     "data": {
      "image/png": "[encoded data removed]",
      "text/plain": [
       "<Figure size 800x400 with 1 Axes>"
      ]
     },
     "metadata": {},
     "output_type": "display_data"
    }
   ],
   "source": [
    "#| fig-align: center\n",
    "\n",
    "from sklearn.metrics import precision_recall_curve\n",
    "\n",
    "threshold = 0\n",
    "y_scores = cross_val_predict(clf, X_train, y_train, cv=3,\n",
    "                             method=\"decision_function\")\n",
    "precisions, recalls, thresholds = precision_recall_curve(y_train, y_scores)\n",
    "\n",
    "plt.figure(figsize=(8, 4))\n",
    "plt.plot(thresholds, precisions[:-1], \"b--\", label=\"Precision\", linewidth=2)\n",
    "plt.plot(thresholds, recalls[:-1], \"g-\", label=\"Recall\", linewidth=2)\n",
    "plt.vlines(threshold, 0, 1.0, \"k\", \"dotted\", label=\"threshold\")\n",
    "\n",
    "idx = (thresholds >= threshold).argmax()  # first index ≥ threshold\n",
    "plt.plot(thresholds[idx], precisions[idx], \"bo\")\n",
    "plt.plot(thresholds[idx], recalls[idx], \"go\")\n",
    "plt.axis([min(y_scores), max(y_scores), -0.01, 1.01])\n",
    "plt.grid()\n",
    "plt.xlabel(\"Threshold\")\n",
    "plt.legend(loc=\"center right\")\n",
    "plt.show()"
   ]
  },
  {
   "cell_type": "markdown",
   "id": "7f0f5ccb-603f-4442-8ba9-1b8cb1faf863",
   "metadata": {},
   "source": [
    "It is up to us as the model designers to create a model that has the properties we desire. In the case of breast cancer classification, is it better to have higher precision, higher recall, or a mix of both? Well, a false negative could be the difference between life and death, whereas a false positive is not as serious. Therefore, it is in our best interest to lower the amount of false negatives as much as possible, even if there's an increase in false positives. This, in turn, will raise our recall and lower our precision. This means we need to lower our threshold.\n",
    "\n",
    "Looking at the left side of the above figure, we can see that the recall settles at $1$ for quite a while, and the precision settles at roughly $0.4$. We could choose a threshold as far to the left as possible, but we can see that shifting it to the right will slightly raise our precision without affecting our recall much. Let's use a threshold of $-5$ and see what we get:"
   ]
  },
  {
   "cell_type": "code",
   "execution_count": 274,
   "id": "fcac94d6-4076-4167-b682-01d93b0120a8",
   "metadata": {
    "tags": []
   },
   "outputs": [
    {
     "name": "stdout",
     "output_type": "stream",
     "text": [
      "Recall: 100.0 %\n",
      "Precision: 42.2 %\n"
     ]
    }
   ],
   "source": [
    "threshold = -5\n",
    "idx = (thresholds >= threshold).argmax()\n",
    "\n",
    "print(\"Recall:\", 100 * recalls[idx], \"%\")\n",
    "print(\"Precision:\", round(100 * precisions[idx], 2), \"%\")"
   ]
  },
  {
   "cell_type": "markdown",
   "id": "c7c3d5ad-50e9-40ba-abe6-3b81bde56ff8",
   "metadata": {},
   "source": [
    "Sure enough, we find every malignant tumor, but with the drawback that we also accidentally classify nearly $60\\%$ of benign tumors as malignant as well.\n",
    "\n",
    "When you think about it, this isn't too bad. Usually, tumors of any size would be cause for concern, and most people would safely operate under the assumption that their tumor is malignant and get it removed as soon as possible. This is the same as shifting the threshold all the way to the left and classifying everyone as a criminal. In this situation, we can actually say that our model has improved things substantially by still catching all malignant tumors, but also allowing more than $40\\%$ of people to not have to get an operation.\n",
    "\n",
    "---\n",
    "\n",
    "*This post will eventually be updated to include:*\n",
    "\n",
    "- *Other metrics: $F_1$ Score, PR Curves, ROC curves, etc.*\n",
    "- *Multiclass Classification*\n",
    "- *Other classification methods: Naïve Bayes, K-Nearest Neighbors, Decision Trees, Support Vector Machines, etc.*"
   ]
  }
 ],
 "metadata": {
  "kernelspec": {
   "display_name": "Python 3 (ipykernel)",
   "language": "python",
   "name": "python3"
  },
  "language_info": {
   "codemirror_mode": {
    "name": "ipython",
    "version": 3
   },
   "file_extension": ".py",
   "mimetype": "text/x-python",
   "name": "python",
   "nbconvert_exporter": "python",
   "pygments_lexer": "ipython3",
   "version": "3.11.5"
  }
 },
 "nbformat": 4,
 "nbformat_minor": 5
}
