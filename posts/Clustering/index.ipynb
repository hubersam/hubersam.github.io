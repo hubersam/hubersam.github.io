{
 "cells": [
  {
   "cell_type": "raw",
   "id": "dad0bab9-5e73-460b-8a94-86d721cbf8b4",
   "metadata": {},
   "source": [
    "---\n",
    "title: \"Clustering\"\n",
    "description: \"You might get a headache...\"\n",
    "author: \"Samuel Huber\"\n",
    "date: \"2023-12-03\"\n",
    "---\n",
    "\n",
    "Welcome to my fourth blog post!"
   ]
  }
 ],
 "metadata": {
  "kernelspec": {
   "display_name": "Python 3 (ipykernel)",
   "language": "python",
   "name": "python3"
  },
  "language_info": {
   "codemirror_mode": {
    "name": "ipython",
    "version": 3
   },
   "file_extension": ".py",
   "mimetype": "text/x-python",
   "name": "python",
   "nbconvert_exporter": "python",
   "pygments_lexer": "ipython3",
   "version": "3.11.5"
  }
 },
 "nbformat": 4,
 "nbformat_minor": 5
}
